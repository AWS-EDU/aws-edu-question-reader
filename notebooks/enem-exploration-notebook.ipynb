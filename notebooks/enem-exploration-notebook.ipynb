{
 "cells": [
  {
   "cell_type": "markdown",
   "metadata": {},
   "source": [
    "## Importing dependencies & defining global variables"
   ]
  },
  {
   "cell_type": "code",
   "execution_count": null,
   "metadata": {},
   "outputs": [],
   "source": [
    "import boto3\n",
    "from pprint import pprint\n",
    "import IPython.display as disp\n",
    "from PIL import Image, ImageDraw\n",
    "from pdf2image import convert_from_path"
   ]
  },
  {
   "cell_type": "code",
   "execution_count": null,
   "metadata": {},
   "outputs": [],
   "source": [
    "exam_name = 'custom_exam'\n",
    "exam_bucket = 'exams-martinig'\n",
    "exams_dir = '../exams'\n",
    "sample_file = f'{exams_dir}/custom_exam.pdf'\n",
    "region = 'us-east-1'"
   ]
  },
  {
   "cell_type": "markdown",
   "metadata": {},
   "source": [
    "## Defining functions"
   ]
  },
  {
   "cell_type": "code",
   "execution_count": null,
   "metadata": {},
   "outputs": [],
   "source": [
    "def convert_pdf2jpeg(pdf_file, exam_name, output_dir):\n",
    "    pages = convert_from_path(pdf_file)\n",
    "    page_count = 0\n",
    "    for page in pages:\n",
    "        page_count+=1\n",
    "        page.save(f'{output_dir}/{exam_name}_{page_count}pg.jpg', 'JPEG')\n",
    "\n",
    "def load_image(filename):\n",
    "    with open(filename, \"rb\") as imageFile:\n",
    "      f = imageFile.read()\n",
    "      return bytearray(f)\n",
    "    \n",
    "def save_pages(textract_response):\n",
    "    pages=[]\n",
    "    blocks = textract_response['Blocks']\n",
    "    for block in blocks:\n",
    "        if block['BlockType'] == 'PAGE':\n",
    "           pages.append(block)\n",
    "    return pages\n",
    "\n",
    "def save_lines(textract_response):\n",
    "    lines=[]\n",
    "    blocks = textract_response['Blocks']\n",
    "    for block in blocks:\n",
    "        if block['BlockType'] == 'LINE':\n",
    "           lines.append(block)\n",
    "    return lines\n",
    "\n",
    "def save_words(textract_response):\n",
    "    words=[]\n",
    "    blocks = textract_response['Blocks']\n",
    "    for block in blocks:\n",
    "        if block['BlockType'] == 'WORD':\n",
    "           words.append(block)\n",
    "    return words\n",
    "\n",
    "def identify_questions(words):\n",
    "    questions=[]\n",
    "    for word in words:\n",
    "        if word['Text'] == 'Questão':\n",
    "            questions.append(word)\n",
    "    return questions\n",
    "\n",
    "def localize_questions(questions):\n",
    "    questions_bboxes = []\n",
    "    for question in questions:\n",
    "        questions_bboxes.append(question['Geometry']['BoundingBox'])\n",
    "    return questions_bboxes\n",
    "\n",
    "def order_questions(questions):\n",
    "    for question, next_question in zip(questions, questions[1:]):\n",
    "        # verify if the difference is minimum\n",
    "        if (((question['Left'] - next_question['Left'])*100)/question['Left']) < 25 or (((next_question['Left'])*100)/next_question['Left'] - question['Left']) < 25:\n",
    "            questions.sort(key = lambda question: (question.get('Top')))\n",
    "        else:\n",
    "            questions.sort(key = lambda question: (question.get('Left'), question.get('Top')))"
   ]
  },
  {
   "cell_type": "code",
   "execution_count": null,
   "metadata": {},
   "outputs": [],
   "source": [
    "def detect_page_style(width, questions_locations):\n",
    "    middle_horizontal = width/2\n",
    "    page_style = '' # centered, columns, broken_columns\n",
    "    for question in questions_locations:\n",
    "        if width * question['Left'] > middle_horizontal:\n",
    "            # page has 2 columns\n",
    "            if height * question['Top'] > (height * questions_locations[0]['Top'] * 0.10):\n",
    "                # question is broken\n",
    "                page_style = 'broken_columns'\n",
    "            else:\n",
    "                # question is not broken\n",
    "                page_style = 'columns'\n",
    "        else:\n",
    "            page_style = 'centered'\n",
    "    return page_style\n",
    "\n",
    "def create_question_bbox(page_style, box, width, height, previous_question, next_question):\n",
    "    middle_horizontal = width/2\n",
    "    broken = False\n",
    "    if page_style == 'centered':\n",
    "        if box['Top'] <= previous_question['Top']:\n",
    "            x0 = 0\n",
    "            y0 = height*box['Top']\n",
    "            x1 = width\n",
    "            y1 = height*next_question['Top']\n",
    "        else:\n",
    "            # question is on the bottom of page\n",
    "            x0 = 0\n",
    "            y0 = height*box['Top']\n",
    "            x1 = width\n",
    "            y1 = height\n",
    "    else:\n",
    "        if width * box['Left'] < middle_horizontal:\n",
    "            # question is on the left\n",
    "            if box['Top'] <= previous_question['Top']:\n",
    "                # question is on the top left\n",
    "                if width * next_question['Left'] > middle_horizontal:\n",
    "                    # next question is on the right\n",
    "                    x0 = 0\n",
    "                    y0 = height*box['Top']\n",
    "                    x1 = width/2\n",
    "                    y1 = height\n",
    "                else:\n",
    "                    x0 = 0\n",
    "                    y0 = height*box['Top']\n",
    "                    x1 = width/2\n",
    "                    y1 = height*next_question['Top']\n",
    "            else:\n",
    "               # question is on the bottom left\n",
    "                x0 = 0\n",
    "                y0 = height*box['Top']\n",
    "                x1 = width/2\n",
    "                y1 = height\n",
    "        else:\n",
    "            # question is on the right\n",
    "            if box['Top'] < next_question['Top']:\n",
    "                # question is on the top right\n",
    "                x0 = width/2\n",
    "                y0 = height*box['Top']\n",
    "                x1 = width\n",
    "                y1 = height*next_question['Top']\n",
    "            else:\n",
    "                # question is on the bottom right\n",
    "                x0 = width/2\n",
    "                y0 = height*box['Top']\n",
    "                x1 = width\n",
    "                y1 = height\n",
    "    return [x0, y0, x1, y1]\n",
    "\n",
    "def create_broken_piece_bbox(width, height, next_question):\n",
    "    x0 = width/2\n",
    "    y0 = 0\n",
    "    x1 = width\n",
    "    y1 = height*next_question['Top']\n",
    "    return [x0, y0, x1, y1]\n",
    "\n",
    "def show_bbox(draw, box, color):\n",
    "    return draw.rectangle(box, outline=color, width=4)\n",
    "    \n",
    "def cut_question(image, question_bbox):\n",
    "    crop = image.crop(question_bbox)\n",
    "    return crop"
   ]
  },
  {
   "cell_type": "markdown",
   "metadata": {},
   "source": [
    "## Transforming exam PDF file to JPEG images"
   ]
  },
  {
   "cell_type": "code",
   "execution_count": null,
   "metadata": {},
   "outputs": [],
   "source": [
    "convert_pdf2jpeg(sample_file, exam_name, exams_dir)"
   ]
  },
  {
   "cell_type": "markdown",
   "metadata": {},
   "source": [
    "## Defining Cuts"
   ]
  },
  {
   "cell_type": "code",
   "execution_count": null,
   "metadata": {},
   "outputs": [],
   "source": [
    "page = 1\n",
    "test_image = f'{exams_dir}/{exam_name}_{page}pg.jpg'\n",
    "disp.Image(test_image, width=400)"
   ]
  },
  {
   "cell_type": "code",
   "execution_count": null,
   "metadata": {},
   "outputs": [],
   "source": [
    "image = Image.open(test_image)\n",
    "width, height =image.size\n",
    "draw = ImageDraw.Draw(image)\n",
    "width, height"
   ]
  },
  {
   "cell_type": "code",
   "execution_count": null,
   "metadata": {},
   "outputs": [],
   "source": [
    "textract = boto3.client('textract')\n",
    "\n",
    "response = textract.detect_document_text(\n",
    "    Document={\n",
    "        'Bytes': load_image(test_image),\n",
    "    }\n",
    ")"
   ]
  },
  {
   "cell_type": "code",
   "execution_count": null,
   "metadata": {},
   "outputs": [],
   "source": [
    "words = save_words(response)\n",
    "len(words)"
   ]
  },
  {
   "cell_type": "code",
   "execution_count": null,
   "metadata": {},
   "outputs": [],
   "source": [
    "questions = identify_questions(words)\n",
    "len(questions)"
   ]
  },
  {
   "cell_type": "code",
   "execution_count": null,
   "metadata": {},
   "outputs": [],
   "source": [
    "questions_locations = localize_questions(questions)\n",
    "order_questions(questions_locations)\n",
    "pprint(questions_locations)"
   ]
  },
  {
   "cell_type": "code",
   "execution_count": null,
   "metadata": {},
   "outputs": [],
   "source": [
    "page_style = detect_page_style(width, questions_locations)\n",
    "print(page_style)"
   ]
  },
  {
   "cell_type": "code",
   "execution_count": null,
   "metadata": {},
   "outputs": [],
   "source": [
    "question_bbox = create_question_bbox(page_style, questions_locations[0], width, height, questions_locations[0], questions_locations[1])\n",
    "show_bbox(draw, question_bbox, 'green')"
   ]
  },
  {
   "cell_type": "code",
   "execution_count": null,
   "metadata": {},
   "outputs": [],
   "source": [
    "question_bbox = create_question_bbox(page_style, questions_locations[1], width, height, questions_locations[0], questions_locations[2])\n",
    "show_bbox(draw, question_bbox, 'red')\n",
    "if page_style == 'broken_columns':\n",
    "    broken_question_bbox = create_broken_piece_bbox(width, height, questions_locations[2])\n",
    "    show_bbox(draw, broken_question_bbox, 'red')"
   ]
  },
  {
   "cell_type": "code",
   "execution_count": null,
   "metadata": {},
   "outputs": [],
   "source": [
    "question_bbox = create_question_bbox(page_style, questions_locations[2], width, height, questions_locations[1], questions_locations[2])\n",
    "show_bbox(draw, question_bbox, 'yellow')"
   ]
  },
  {
   "cell_type": "code",
   "execution_count": null,
   "metadata": {},
   "outputs": [],
   "source": [
    "image.save('questions_test.jpg', 'JPEG')"
   ]
  },
  {
   "cell_type": "code",
   "execution_count": null,
   "metadata": {},
   "outputs": [],
   "source": [
    "cut = cut_question(image, create_question_bbox(page_style, questions_locations[0], width, height, questions_locations[0], questions_locations[1]))\n",
    "cut.save('question_test.jpg', 'JPEG')"
   ]
  },
  {
   "cell_type": "code",
   "execution_count": null,
   "metadata": {},
   "outputs": [],
   "source": []
  }
 ],
 "metadata": {
  "kernelspec": {
   "display_name": "Python 3",
   "language": "python",
   "name": "python3"
  },
  "language_info": {
   "codemirror_mode": {
    "name": "ipython",
    "version": 3
   },
   "file_extension": ".py",
   "mimetype": "text/x-python",
   "name": "python",
   "nbconvert_exporter": "python",
   "pygments_lexer": "ipython3",
   "version": "3.8.6"
  }
 },
 "nbformat": 4,
 "nbformat_minor": 4
}
